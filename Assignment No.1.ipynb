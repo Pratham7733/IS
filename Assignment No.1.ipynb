{
 "cells": [
  {
   "cell_type": "markdown",
   "id": "0befe7ef",
   "metadata": {},
   "source": [
    "# PHULE PRATHAMESH DNYANDEV"
   ]
  },
  {
   "cell_type": "code",
   "execution_count": 1,
   "id": "f67c5814",
   "metadata": {},
   "outputs": [
    {
     "name": "stdout",
     "output_type": "stream",
     "text": [
      "Enter String: Hello World\n",
      "Original string:  Hello World\n",
      "AND result:  Hello World\n",
      "\u0013\u001bR result:  7\u001a\u0013\u0013\u0010_(\u0010\n"
     ]
    }
   ],
   "source": [
    "string = input(\"Enter String: \")\n",
    "result_and = \"\"\n",
    "result_xor = \"\"\n",
    "\n",
    "for char in string:\n",
    "    # Bitwise AND with 127\n",
    "    and_val = ord(char) & 127\n",
    "    # Bitwise XOR with 127\n",
    "    xor_val = ord(char) ^ 127\n",
    "    \n",
    "    result_and += chr(and_val)\n",
    "    result_xor += chr(xor_val)\n",
    "\n",
    "print(\"Original string: \", string)\n",
    "print(\"AND result: \", result_and)\n",
    "print(\"XOR result: \", result_xor)\n"
   ]
  },
  {
   "cell_type": "code",
   "execution_count": null,
   "id": "301206eb",
   "metadata": {},
   "outputs": [],
   "source": []
  }
 ],
 "metadata": {
  "kernelspec": {
   "display_name": "Python 3 (ipykernel)",
   "language": "python",
   "name": "python3"
  },
  "language_info": {
   "codemirror_mode": {
    "name": "ipython",
    "version": 3
   },
   "file_extension": ".py",
   "mimetype": "text/x-python",
   "name": "python",
   "nbconvert_exporter": "python",
   "pygments_lexer": "ipython3",
   "version": "3.9.13"
  }
 },
 "nbformat": 4,
 "nbformat_minor": 5
}
