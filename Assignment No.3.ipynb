{
 "cells": [
  {
   "cell_type": "markdown",
   "id": "3f719963",
   "metadata": {},
   "source": [
    "# PHULE PRATHAMESH DNYANDEV"
   ]
  },
  {
   "cell_type": "code",
   "execution_count": 1,
   "id": "0decd9b8",
   "metadata": {},
   "outputs": [
    {
     "name": "stdout",
     "output_type": "stream",
     "text": [
      "n = 21\n",
      "e = 5\n",
      "d = 5.0\n",
      "Public key: (5, 21)\n",
      "Private key: (5.0, 21)\n",
      "Original message:11\n",
      "Encrypted message: 2.0\n",
      "Decrypted message: 11.0\n"
     ]
    }
   ],
   "source": [
    "import math\n",
    "\n",
    "# step 1\n",
    "p = 3\n",
    "q = 7\n",
    "\n",
    "# step 2\n",
    "n = p*q\n",
    "print(\"n =\", n)\n",
    "\n",
    "# step 3\n",
    "phi = (p-1)*(q-1)\n",
    "\n",
    "# step 4\n",
    "e = 2\n",
    "while(e<phi):\n",
    "    if (math.gcd(e, phi) == 1):\n",
    "        break\n",
    "    else:\n",
    "        e += 1\n",
    "\n",
    "print(\"e =\", e)\n",
    "# step 5\n",
    "# Private key calculation(phi)\n",
    "#  Remember there is variable k\n",
    "k = 2\n",
    "d = ((k*phi)+1)/e\n",
    "print(\"d =\", d)\n",
    "print(f'Public key: {e, n}')\n",
    "print(f'Private key: {d, n}')\n",
    "\n",
    "# plain text\n",
    "msg = 11\n",
    "print(f'Original message:{msg}')\n",
    "\n",
    "# encryption\n",
    "C = pow(msg, e)\n",
    "C = math.fmod(C, n)\n",
    "print(f'Encrypted message: {C}')\n",
    "\n",
    "# decryption\n",
    "M = pow(C, d)\n",
    "M = math.fmod(M, n)\n",
    "\n",
    "print(f'Decrypted message: {M}')  \n"
   ]
  },
  {
   "cell_type": "code",
   "execution_count": null,
   "id": "b161d480",
   "metadata": {},
   "outputs": [],
   "source": []
  }
 ],
 "metadata": {
  "kernelspec": {
   "display_name": "Python 3 (ipykernel)",
   "language": "python",
   "name": "python3"
  },
  "language_info": {
   "codemirror_mode": {
    "name": "ipython",
    "version": 3
   },
   "file_extension": ".py",
   "mimetype": "text/x-python",
   "name": "python",
   "nbconvert_exporter": "python",
   "pygments_lexer": "ipython3",
   "version": "3.9.13"
  }
 },
 "nbformat": 4,
 "nbformat_minor": 5
}
