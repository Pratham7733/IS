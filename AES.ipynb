{
 "cells": [
  {
   "cell_type": "code",
   "execution_count": 3,
   "id": "26feff57",
   "metadata": {},
   "outputs": [
    {
     "name": "stdout",
     "output_type": "stream",
     "text": [
      "Defaulting to user installation because normal site-packages is not writeable\n",
      "Requirement already satisfied: pycryptodome in c:\\users\\phule\\appdata\\roaming\\python\\python39\\site-packages (3.18.0)\n",
      "Note: you may need to restart the kernel to use updated packages.\n"
     ]
    }
   ],
   "source": [
    "pip install pycryptodome"
   ]
  },
  {
   "cell_type": "code",
   "execution_count": 5,
   "id": "6f0ecac9",
   "metadata": {},
   "outputs": [
    {
     "ename": "ModuleNotFoundError",
     "evalue": "No module named 'Crypto'",
     "output_type": "error",
     "traceback": [
      "\u001b[1;31m---------------------------------------------------------------------------\u001b[0m",
      "\u001b[1;31mModuleNotFoundError\u001b[0m                       Traceback (most recent call last)",
      "\u001b[1;32mC:\\Program Files\\KMSpico\\temp\\ipykernel_18856\\2170970245.py\u001b[0m in \u001b[0;36m<module>\u001b[1;34m\u001b[0m\n\u001b[1;32m----> 1\u001b[1;33m \u001b[1;32mfrom\u001b[0m \u001b[0mCrypto\u001b[0m\u001b[1;33m.\u001b[0m\u001b[0mCipher\u001b[0m \u001b[1;32mimport\u001b[0m \u001b[0mAES\u001b[0m\u001b[1;33m\u001b[0m\u001b[1;33m\u001b[0m\u001b[0m\n\u001b[0m\u001b[0;32m      2\u001b[0m \u001b[1;32mfrom\u001b[0m \u001b[0mCrypto\u001b[0m\u001b[1;33m.\u001b[0m\u001b[0mUtil\u001b[0m\u001b[1;33m.\u001b[0m\u001b[0mPadding\u001b[0m \u001b[1;32mimport\u001b[0m \u001b[0mpad\u001b[0m\u001b[1;33m,\u001b[0m \u001b[0munpad\u001b[0m\u001b[1;33m\u001b[0m\u001b[1;33m\u001b[0m\u001b[0m\n\u001b[0;32m      3\u001b[0m \u001b[1;32mfrom\u001b[0m \u001b[0mCrypto\u001b[0m\u001b[1;33m.\u001b[0m\u001b[0mRandom\u001b[0m \u001b[1;32mimport\u001b[0m \u001b[0mget_random_bytes\u001b[0m\u001b[1;33m\u001b[0m\u001b[1;33m\u001b[0m\u001b[0m\n\u001b[0;32m      4\u001b[0m \u001b[1;33m\u001b[0m\u001b[0m\n\u001b[0;32m      5\u001b[0m \u001b[1;31m# Encryption function\u001b[0m\u001b[1;33m\u001b[0m\u001b[1;33m\u001b[0m\u001b[0m\n",
      "\u001b[1;31mModuleNotFoundError\u001b[0m: No module named 'Crypto'"
     ]
    }
   ],
   "source": [
    "from Crypto.Cipher import AES\n",
    "from Crypto.Util.Padding import pad, unpad\n",
    "from Crypto.Random import get_random_bytes\n",
    "\n",
    "# Encryption function\n",
    "def encrypt(key, plaintext):\n",
    "    cipher = AES.new(key, AES.MODE_CBC)\n",
    "    ciphertext = cipher.encrypt(pad(plaintext, AES.block_size))\n",
    "    return cipher.iv + ciphertext\n",
    "\n",
    "# Decryption function\n",
    "def decrypt(key, ciphertext):\n",
    "    iv = ciphertext[:AES.block_size]\n",
    "    cipher = AES.new(key, AES.MODE_CBC, iv)\n",
    "    plaintext = unpad(cipher.decrypt(ciphertext[AES.block_size:]), AES.block_size)\n",
    "    return plaintext\n",
    "\n",
    "# Get input from the user\n",
    "key = input(\"Enter the encryption key (16 bytes): \").encode()\n",
    "plaintext = input(\"Enter the plaintext to encrypt: \").encode()\n",
    "\n",
    "# Encryption\n",
    "ciphertext = encrypt(key, plaintext)\n",
    "print('Ciphertext:', ciphertext)\n",
    "\n",
    "# Decryption\n",
    "decrypted_text = decrypt(key, ciphertext)\n",
    "print('Decrypted text:', decrypted_text.decode())\n"
   ]
  },
  {
   "cell_type": "code",
   "execution_count": null,
   "id": "2bdd6b1d",
   "metadata": {},
   "outputs": [],
   "source": []
  }
 ],
 "metadata": {
  "kernelspec": {
   "display_name": "Python 3 (ipykernel)",
   "language": "python",
   "name": "python3"
  },
  "language_info": {
   "codemirror_mode": {
    "name": "ipython",
    "version": 3
   },
   "file_extension": ".py",
   "mimetype": "text/x-python",
   "name": "python",
   "nbconvert_exporter": "python",
   "pygments_lexer": "ipython3",
   "version": "3.9.13"
  }
 },
 "nbformat": 4,
 "nbformat_minor": 5
}
